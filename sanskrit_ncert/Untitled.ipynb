{
 "cells": [
  {
   "cell_type": "code",
   "execution_count": 1,
   "id": "c98aad8b-9b58-458d-be61-cef82bdd1740",
   "metadata": {},
   "outputs": [],
   "source": [
    "import os\n",
    "import geturl"
   ]
  },
  {
   "cell_type": "code",
   "execution_count": 8,
   "id": "2c7af373-c6a8-4d25-aed6-9320e63606f6",
   "metadata": {
    "scrolled": true
   },
   "outputs": [
    {
     "name": "stdout",
     "output_type": "stream",
     "text": [
      "civics 10 https://ncert.nic.in/ncerts/l/jess401.pdf\n"
     ]
    }
   ],
   "source": [
    "for rt, dr, fl in os.walk(\".\"):\n",
    "    for file in fl:\n",
    "        if '.txt' in file:\n",
    "            pth = os.path.join(rt, file)\n",
    "            f = open(pth, \"r\")\n",
    "            if \"checks and balances\" in f.read():\n",
    "                pthcmp = (os.path.normpath(pth).split(os.sep))\n",
    "                geturl.geturl(os.path.splitext(pthcmp[-1])[0],pthcmp[0],pthcmp[1])\n",
    "            f.close()"
   ]
  },
  {
   "cell_type": "code",
   "execution_count": null,
   "id": "1167f7a0",
   "metadata": {},
   "outputs": [],
   "source": []
  }
 ],
 "metadata": {
  "kernelspec": {
   "display_name": "pers_env",
   "language": "python",
   "name": "pers_env"
  },
  "language_info": {
   "codemirror_mode": {
    "name": "ipython",
    "version": 3
   },
   "file_extension": ".py",
   "mimetype": "text/x-python",
   "name": "python",
   "nbconvert_exporter": "python",
   "pygments_lexer": "ipython3",
   "version": "3.10.0"
  }
 },
 "nbformat": 4,
 "nbformat_minor": 5
}
