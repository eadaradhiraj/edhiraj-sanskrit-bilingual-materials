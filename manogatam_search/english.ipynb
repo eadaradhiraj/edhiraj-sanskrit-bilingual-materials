{
 "cells": [
  {
   "cell_type": "code",
   "execution_count": 1,
   "metadata": {},
   "outputs": [],
   "source": [
    "from bs4 import BeautifulSoup as bsoup\n",
    "import requests\n",
    "import re\n",
    "HEADERS = {\n",
    "        'User-Agent': 'Mozilla/5.0 (Macintosh; Intel Mac OS X 10_10_1) AppleWebKit/537.36 (KHTML, like Gecko) Chrome/39.0.2171.95 Safari/537.36'\n",
    "    }\n",
    "pages_url ='https://www.pmindia.gov.in/wp-admin/admin-ajax.php?action=demoMannKiBaat&page_no={no}&language=en&tag=mann-ki-baat'"
   ]
  },
  {
   "cell_type": "code",
   "execution_count": 2,
   "metadata": {},
   "outputs": [],
   "source": [
    "def get_html(url):\n",
    "    r = requests.get(url, headers=HEADERS)\n",
    "    return r.content\n",
    "def gsoup(url):    \n",
    "    return bsoup(get_html(url), 'html.parser')"
   ]
  },
  {
   "cell_type": "code",
   "execution_count": 3,
   "metadata": {},
   "outputs": [],
   "source": [
    "def get_word(i, wd):\n",
    "    pages_soup1 = gsoup(pages_url.format(no=i))\n",
    "    for add in pages_soup1.find_all(\"a\", href = re.compile(r'pms-address-in-')):\n",
    "        add_href = add[\"href\"]\n",
    "        add_soup = gsoup(add_href)\n",
    "        for para in (add_soup.find_all(\"p\")):\n",
    "            para_txt = para.text\n",
    "            for sent_txt in para_txt.split(\".\"):\n",
    "                if wd in sent_txt:\n",
    "#                 extensionsToCheck = [\"status\"]\n",
    "#                 if all(ext in sent_txt for ext in extensionsToCheck):\n",
    "                    print(sent_txt)\n",
    "                    print(add_href)"
   ]
  },
  {
   "cell_type": "code",
   "execution_count": 4,
   "metadata": {},
   "outputs": [],
   "source": [
    "def loopthru(wd):\n",
    "    for i in range(1,100):\n",
    "        get_word(i,wd)"
   ]
  },
  {
   "cell_type": "code",
   "execution_count": 5,
   "metadata": {},
   "outputs": [
    {
     "name": "stdout",
     "output_type": "stream",
     "text": [
      " He has written that for years he has been watching news channels, reading newspapers, along with being connected to social media, so he used to think that his general knowledge was good enough… but, when he visited the PM Museum, he was very surprised, he realized that he did not know much about his country and those who led the country\n",
      "https://www.pmindia.gov.in/en/news_updates/pms-address-in-the-88th-episode-of-mann-ki-baat/\n",
      " Let’s see what your general knowledge says… how much information you have! Are you ready, my young friends, are you readywith your paper and pen? What I am going to ask you right now, you can share the answers on NaMo App or social media with #MuseumQuiz… and do share\n",
      "https://www.pmindia.gov.in/en/news_updates/pms-address-in-the-88th-episode-of-mann-ki-baat/\n",
      " You must have seen videos of many such youths learning and teaching Vedic maths on social media these days\n",
      "https://www.pmindia.gov.in/en/news_updates/pms-address-in-the-88th-episode-of-mann-ki-baat/\n",
      "Do you know the answers to these questions?Write them on the NaMo App and social media using #MuseumQuiz\n",
      "https://www.pmindia.gov.in/en/news_updates/pms-address-in-the-88th-episode-of-mann-ki-baat/\n",
      " I read many people’s comments on social media, that Baba Sivanand is fitter than those one-fourth his age\n",
      "https://www.pmindia.gov.in/en/news_updates/pms-address-in-the-87th-episode-of-mann-ki-baat/\n",
      "PM @narendramodi mentions about Kili Paul and Neema, who have who created ripples on social media by lip syncing several Indian songs\n",
      "https://www.pmindia.gov.in/en/news_updates/pms-address-in-the-86th-episode-of-mann-ki-baat/\n",
      " You must have also seen these pictures on social media\n",
      "https://www.pmindia.gov.in/en/news_updates/pms-address-in-the-85th-episode-of-mann-ki-baat-on-30-01-2022/\n",
      " When Varun was in the hospital, I saw something on social media that touched my heart\n",
      "https://www.pmindia.gov.in/en/news_updates/pms-address-in-the-84th-episode-of-mann-ki-baat/\n",
      "I have been watching on social media the picture of a flying boat in Meghalaya that is becoming viral\n",
      "https://www.pmindia.gov.in/en/news_updates/pms-address-in-the-83rd-episode-of-mann-ki-baat/\n",
      " This information will also be available on the website of the ministry, and will be circulated through social media\n",
      "https://www.pmindia.gov.in/en/news_updates/pms-address-in-the-82nd-episode-of-mann-ki-baat/\n",
      " Do share on social media about the local products you buy from there too\n",
      "https://www.pmindia.gov.in/en/news_updates/pms-address-in-the-82nd-episode-of-mann-ki-baat/\n",
      " Friends, if you know of any such person engaged in this kind of effort, if you have any such information, then please share the information related to them on social media with the hashtag Celebrating Sanskrit\n",
      "https://www.pmindia.gov.in/en/news_updates/pms-address-in-the-80th-episode-of-mann-ki-baat/\n",
      "If you know about people who are doing commendable work to popularise Sanskrit, write about them on social media using #CelebratingSanskrit\n",
      "https://www.pmindia.gov.in/en/news_updates/pms-address-in-the-80th-episode-of-mann-ki-baat/\n",
      " On social media, our Victory Punch Campaign for the support of Olympics sportspersons has begun\n",
      "https://www.pmindia.gov.in/en/news_updates/pms-address-in-the-79th-episode-of-mann-ki-baat/\n",
      " These women not only prepared things like dosa, gulabjamun from banana flour; they also shared their pictures on social media\n",
      "https://www.pmindia.gov.in/en/news_updates/pms-address-in-the-79th-episode-of-mann-ki-baat/\n",
      "You can send your wishes to these players with #Cheer4India on social media\n",
      "https://www.pmindia.gov.in/en/news_updates/pms-address-in-the-78th-episode-of-mann-ki-baat/\n",
      " Many doctors are providing information to people through social media\n",
      "https://www.pmindia.gov.in/en/news_updates/pms-address-in-the-76th-episode-of-mann-ki-baat/\n",
      " Yes, quite a few misconceptions or myths about this have come up on social media enumerating the side effects … till now, in our place, no side effects have been found in vaccines that have been administered\n",
      "https://www.pmindia.gov.in/en/news_updates/pms-address-in-the-76th-episode-of-mann-ki-baat/\n",
      " You too must have seen visuals of this on social media\n",
      "https://www.pmindia.gov.in/en/news_updates/pms-address-in-the-19th-episode-of-mann-ki-baat-2-0/\n",
      " One day, some tourists posted a video of this forgotten temple on social media\n",
      "https://www.pmindia.gov.in/en/news_updates/pms-address-in-the-19th-episode-of-mann-ki-baat-2-0/\n",
      " When the Yuva brigade saw this video on social media they could not bear it and this team decided to renovate it together\n",
      "https://www.pmindia.gov.in/en/news_updates/pms-address-in-the-19th-episode-of-mann-ki-baat-2-0/\n",
      " Anudeep also shared about his resolve on social media\n",
      "https://www.pmindia.gov.in/en/news_updates/pms-address-in-the-19th-episode-of-mann-ki-baat-2-0/\n",
      " If you are aware of other such initiatives, I urge you to certainly share that on social media\n",
      "https://www.pmindia.gov.in/en/news_updates/pms-address-in-the-17th-episode-of-mann-ki-baat-2-0/\n",
      " You must share about them on social media\n",
      "https://www.pmindia.gov.in/en/news_updates/pms-address-in-the-16th-episode-of-mann-ki-baat-2-0/\n",
      " On social media, they are saluting their brave heart heroes and paying tributes to those martyred with the #Courage in Kargil\n",
      "https://www.pmindia.gov.in/en/news_updates/pms-address-in-the-14th-episode-of-mann-ki-baat-2-0/\n",
      "Modi ji – So, you are active on social media\n",
      "https://www.pmindia.gov.in/en/news_updates/pms-address-in-the-14th-episode-of-mann-ki-baat-2-0/\n",
      " Similarly I was observing numerous photographs on social media\n",
      "https://www.pmindia.gov.in/en/news_updates/pms-address-in-the-12th-episode-of-mann-ki-baat-2-0/\n",
      " Similarly I was observing numerous photographs on social media\n",
      "https://www.pmindia.gov.in/en/news_updates/pms-address-in-the-12th-episode-of-mann-ki-baat-2-0/\n",
      " You must have read and seen these clips in social media just like I have\n",
      "https://www.pmindia.gov.in/en/news_updates/pms-address-in-the-12th-episode-of-mann-ki-baat-2-0/\n",
      " You must have read and seen these clips in social media just like I have\n",
      "https://www.pmindia.gov.in/en/news_updates/pms-address-in-the-12th-episode-of-mann-ki-baat-2-0/\n",
      "PM: Share it with people, make it viral on social media\n",
      "https://www.pmindia.gov.in/en/news_updates/pms-address-in-the-10th-episode-of-mann-ki-baat-2-0/\n",
      "PM Modi: This  should be streamed in social media also so they become popular\n",
      "https://www.pmindia.gov.in/en/news_updates/pms-address-in-the-10th-episode-of-mann-ki-baat-2-0/\n",
      " I also saw on social media, that many people took out musical instruments like table  and Veena that were lying unused for years– and started practising on them\n",
      "https://www.pmindia.gov.in/en/news_updates/pms-address-in-the-10th-episode-of-mann-ki-baat-2-0/\n",
      " As regards fitness, I think that will be quite a lengthy topic, so what I’ll do is, I’ll upload some videos on this topic on the social media\n",
      "https://www.pmindia.gov.in/en/news_updates/pms-address-in-the-10th-episode-of-mann-ki-baat-2-0/\n",
      "My dear countrymen, in March last year, a video had become the centre of attention in the media and the social media\n",
      "https://www.pmindia.gov.in/en/news_updates/pms-address-in-the-8th-episode-of-mann-ki-baat-2-0/\n",
      " In this mission, ample use was also made of the social media\n",
      "https://www.pmindia.gov.in/en/news_updates/pms-address-in-the-6th-episode-of-mann-ki-baat-2-0/\n",
      " And within no time, there followed a slew of innumerable inspirational stories on social media\n",
      "https://www.pmindia.gov.in/en/news_updates/pms-address-in-the-5th-episode-of-mann-ki-baat-2-0/\n",
      " Following that, many Ambassadors shared those photos on social media, writing about their glorious experiences\n",
      "https://www.pmindia.gov.in/en/news_updates/pms-address-in-the-5th-episode-of-mann-ki-baat-2-0/\n",
      " We could do something more; we could highlight the achievements of these daughters by sharing their achievements on social media, using the hashtag # BHARAT KI LAXMI\n",
      "https://www.pmindia.gov.in/en/news_updates/pms-address-in-4th-episode-of-mann-ki-baat-2-0/\n",
      " open was discussed; on the other, runner up Daniil Medvedev’s speech was equally doing the rounds in public discourse, especially on social media\n",
      "https://www.pmindia.gov.in/en/news_updates/pms-address-in-4th-episode-of-mann-ki-baat-2-0/\n",
      " When you visit them, do share your photographs on social media so that others may be inspired\n",
      "https://www.pmindia.gov.in/en/news_updates/pms-address-in-3rd-episode-of-mann-ki-baat-2-0/\n",
      " And I know that all these campaigns will make a big splash on social media\n",
      "https://www.pmindia.gov.in/en/news_updates/pms-address-in-3rd-episode-of-mann-ki-baat-2-0/\n",
      " I would like to share a couple of personal experiences with you … who knows how soon these will reach our families; who knows when social media will circulate them to usher in a revolution!\n",
      "https://www.pmindia.gov.in/en/news_updates/pms-address-in-50th-episode-of-mann-ki-baat/\n",
      " My effort is to have a continuous dialogue with the youth in various programmes or through social media\n",
      "https://www.pmindia.gov.in/en/news_updates/pms-address-in-50th-episode-of-mann-ki-baat/\n"
     ]
    }
   ],
   "source": [
    "loopthru(\"social media\")"
   ]
  },
  {
   "cell_type": "code",
   "execution_count": null,
   "metadata": {},
   "outputs": [],
   "source": []
  }
 ],
 "metadata": {
  "kernelspec": {
   "display_name": "pers_env",
   "language": "python",
   "name": "pers_env"
  },
  "language_info": {
   "codemirror_mode": {
    "name": "ipython",
    "version": 3
   },
   "file_extension": ".py",
   "mimetype": "text/x-python",
   "name": "python",
   "nbconvert_exporter": "python",
   "pygments_lexer": "ipython3",
   "version": "3.10.0"
  }
 },
 "nbformat": 4,
 "nbformat_minor": 4
}
